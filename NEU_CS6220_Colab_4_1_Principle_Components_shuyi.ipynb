{
  "nbformat": 4,
  "nbformat_minor": 0,
  "metadata": {
    "colab": {
      "provenance": []
    },
    "kernelspec": {
      "name": "python3",
      "display_name": "Python 3"
    },
    "language_info": {
      "name": "python"
    }
  },
  "cells": [
    {
      "cell_type": "code",
      "source": [
        "import pandas as pd\n",
        "\n",
        "!wget https://course.ccs.neu.edu/cs6220/lecture-labs/lecture-3/abalone.csv"
      ],
      "metadata": {
        "colab": {
          "base_uri": "https://localhost:8080/"
        },
        "id": "Qz1zVnbqwJhF",
        "outputId": "4a81f784-64df-4b62-acbd-e92ccd106668"
      },
      "execution_count": 1,
      "outputs": [
        {
          "output_type": "stream",
          "name": "stdout",
          "text": [
            "--2023-02-02 02:58:58--  https://course.ccs.neu.edu/cs6220/lecture-labs/lecture-3/abalone.csv\n",
            "Resolving course.ccs.neu.edu (course.ccs.neu.edu)... 129.10.117.35\n",
            "Connecting to course.ccs.neu.edu (course.ccs.neu.edu)|129.10.117.35|:443... connected.\n",
            "HTTP request sent, awaiting response... 200 OK\n",
            "Length: 191962 (187K) [text/csv]\n",
            "Saving to: ‘abalone.csv’\n",
            "\n",
            "abalone.csv         100%[===================>] 187.46K   739KB/s    in 0.3s    \n",
            "\n",
            "2023-02-02 02:58:59 (739 KB/s) - ‘abalone.csv’ saved [191962/191962]\n",
            "\n"
          ]
        }
      ]
    },
    {
      "cell_type": "markdown",
      "source": [
        "# Read in Abalone data"
      ],
      "metadata": {
        "id": "paHllXrD0paL"
      }
    },
    {
      "cell_type": "code",
      "source": [
        "df = pd.read_csv(\"abalone.csv\")"
      ],
      "metadata": {
        "id": "MDXfwqQrwNBO"
      },
      "execution_count": 2,
      "outputs": []
    },
    {
      "cell_type": "markdown",
      "source": [
        "# Explore the data\n",
        "\n",
        "In this lab, you're going to drop features and scatter the points after projecting along 2 principle components axes.\n",
        "\n",
        "For example, you may drop columns in `Pandas` by typing \n",
        "\n",
        "\n",
        "1. Prune the data. Drop columns `Sex` and/or `Rings`. \\\n",
        "   ```matrix = df.loc[:, df.columns != \"Sex\"]```\n",
        "\n",
        "1. Calculate the covariance matrix. You can calculate the covariance matrix via: \\\n",
        "   $$Cov(X_i, X_j) = \\mathbb{E}[(X_i - \\mu_{x_i})(X_j - \\mu_{x_j})^T]$$\n",
        "\n",
        "1. Calculate the first two components of PCA. You can feel free to use `np.linalg.eig`.\n",
        "\n",
        "1. Verify the principle components. To calculate PCA, feel free to use the PCA function from `scikit.learn`. \\\n",
        "\n",
        "  ```\n",
        "  from sklearn.decomposition import PCA\n",
        "  # Two components of PCA\n",
        "  pca = PCA(2)\n",
        "\n",
        "  # Fit on data\n",
        "  pca.fit(A)\n",
        "\n",
        "  # Access values and vectors\n",
        "  print(pca.components_)\n",
        "  print(pca.explained_variance_)\n",
        "\n",
        "  # transform data\n",
        "  B = pca.transform(A)\n",
        "  print(B)\n",
        "  ```\n",
        "\n",
        "1. Scatter the data to view it in two dimensions"
      ],
      "metadata": {
        "id": "XRByH8x90udO"
      }
    },
    {
      "cell_type": "code",
      "source": [
        "import numpy as np\n",
        "import matplotlib.pyplot as plt\n",
        "import seaborn as sn"
      ],
      "metadata": {
        "id": "i4JXk1LbFA3A"
      },
      "execution_count": 8,
      "outputs": []
    },
    {
      "cell_type": "code",
      "source": [
        "data = df.loc[:, df.columns != \"Sex\"].to_numpy()\n",
        "data"
      ],
      "metadata": {
        "id": "GRi456zu2QCr",
        "colab": {
          "base_uri": "https://localhost:8080/"
        },
        "outputId": "f36f1040-ed32-4ddf-89a3-9e396c167f1f"
      },
      "execution_count": 10,
      "outputs": [
        {
          "output_type": "execute_result",
          "data": {
            "text/plain": [
              "array([[ 0.455 ,  0.365 ,  0.095 , ...,  0.101 ,  0.15  , 15.    ],\n",
              "       [ 0.35  ,  0.265 ,  0.09  , ...,  0.0485,  0.07  ,  7.    ],\n",
              "       [ 0.53  ,  0.42  ,  0.135 , ...,  0.1415,  0.21  ,  9.    ],\n",
              "       ...,\n",
              "       [ 0.6   ,  0.475 ,  0.205 , ...,  0.2875,  0.308 ,  9.    ],\n",
              "       [ 0.625 ,  0.485 ,  0.15  , ...,  0.261 ,  0.296 , 10.    ],\n",
              "       [ 0.71  ,  0.555 ,  0.195 , ...,  0.3765,  0.495 , 12.    ]])"
            ]
          },
          "metadata": {},
          "execution_count": 10
        }
      ]
    },
    {
      "cell_type": "code",
      "source": [
        "data.shape"
      ],
      "metadata": {
        "colab": {
          "base_uri": "https://localhost:8080/"
        },
        "id": "6Ou2gJ3hKbsh",
        "outputId": "eeaae1df-62f0-42a7-b8dd-dc59f7f5c109"
      },
      "execution_count": 11,
      "outputs": [
        {
          "output_type": "execute_result",
          "data": {
            "text/plain": [
              "(4177, 8)"
            ]
          },
          "metadata": {},
          "execution_count": 11
        }
      ]
    },
    {
      "cell_type": "code",
      "source": [
        "# np.cov?\n",
        "cov = np.cov(data.T)\n",
        "cov.shape"
      ],
      "metadata": {
        "colab": {
          "base_uri": "https://localhost:8080/"
        },
        "id": "8yQf6XGoGK3U",
        "outputId": "eaa801dd-96b5-41e3-8bb6-6a640c013527"
      },
      "execution_count": 13,
      "outputs": [
        {
          "output_type": "execute_result",
          "data": {
            "text/plain": [
              "(8, 8)"
            ]
          },
          "metadata": {},
          "execution_count": 13
        }
      ]
    },
    {
      "cell_type": "code",
      "source": [
        "eig_values, eig_vectors = np.linalg.eig(cov)\n",
        "print(\"eig_vectors\", eig_vectors)\n",
        "print(\"eig_valuess\", eig_values)"
      ],
      "metadata": {
        "colab": {
          "base_uri": "https://localhost:8080/"
        },
        "id": "c7pp3RyXIGXS",
        "outputId": "11367aeb-3ead-4830-cbc9-633b6cbe5cef"
      },
      "execution_count": 14,
      "outputs": [
        {
          "output_type": "stream",
          "name": "stdout",
          "text": [
            "eig_vectors [[-2.10513202e-02  1.83052752e-01 -7.42040211e-01  9.06887398e-02\n",
            "   3.07007218e-02 -6.18893826e-01  1.52311416e-01 -5.43508715e-03]\n",
            " [-1.79401219e-02  1.48804192e-01 -5.96175335e-01  4.20854302e-02\n",
            "  -2.33409653e-02  7.83141972e-01  7.49734266e-02 -2.93613363e-02]\n",
            " [-7.31629638e-03  5.24595599e-02 -1.40358287e-01 -3.71173260e-02\n",
            "  -1.45782231e-03 -4.21715859e-02 -9.10437257e-01 -3.81365645e-01]\n",
            " [-8.36804920e-02  8.34461310e-01  2.28847916e-01 -2.20616051e-01\n",
            "   1.25570884e-01 -2.50039224e-03  1.82698066e-01 -3.82722100e-01]\n",
            " [-2.97346596e-02  3.99951598e-01  1.36354791e-01  7.54544047e-01\n",
            "  -3.31709499e-01  5.43703582e-03 -1.68819392e-01  3.35655300e-01]\n",
            " [-1.74599170e-02  1.83252786e-01 -7.74498237e-03 -7.33235758e-02\n",
            "   7.56051666e-01  2.91035964e-02 -2.30202123e-01  5.78984522e-01]\n",
            " [-2.74311519e-02  2.05272453e-01 -5.65032111e-02 -6.04242412e-01\n",
            "  -5.48722324e-01 -3.15866047e-02 -1.65567109e-01  5.09217906e-01]\n",
            " [-9.95106815e-01 -9.79370973e-02  5.85253004e-03  1.15443528e-02\n",
            "   9.94904944e-04 -3.08222505e-04  4.04147122e-04  1.40655044e-03]]\n",
            "eig_valuess [1.04954314e+01 2.39268823e-01 3.02087647e-03 2.60218996e-03\n",
            " 1.05068657e-03 1.47688518e-04 4.88782005e-04 4.17493194e-04]\n"
          ]
        }
      ]
    },
    {
      "cell_type": "code",
      "source": [
        "from sklearn.decomposition import PCA\n",
        "# Two components of PCA\n",
        "pca = PCA(2)\n",
        "\n",
        "# Fit on data\n",
        "pca.fit(data)\n",
        "\n",
        "# Access values and vectors\n",
        "print(pca.components_)\n",
        "print(pca.explained_variance_)\n",
        "\n",
        "# transform data\n",
        "B = pca.transform(data)\n",
        "print(B)"
      ],
      "metadata": {
        "id": "0RtnbO6FIZk4"
      },
      "execution_count": null,
      "outputs": []
    }
  ]
}